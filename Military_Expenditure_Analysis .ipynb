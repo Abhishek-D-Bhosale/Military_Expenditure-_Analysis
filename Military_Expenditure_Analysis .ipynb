{
 "cells": [
  {
   "cell_type": "code",
   "execution_count": 94,
   "id": "b4638a5c",
   "metadata": {},
   "outputs": [],
   "source": [
    "import numpy as np # linear algebra\n",
    "import pandas as pd # data processing, CSV file I/O (e.g. pd.read_csv)\n",
    "\n",
    "import matplotlib.pyplot as plt\n",
    "import seaborn as sns\n",
    "%matplotlib inline\n",
    "\n",
    "pd.options.display.float_format = '{:,}'.format\n",
    "import warnings \n",
    "warnings.filterwarnings('ignore')"
   ]
  },
  {
   "cell_type": "code",
   "execution_count": 95,
   "id": "0671c637",
   "metadata": {},
   "outputs": [],
   "source": [
    "df = pd.read_csv('G:/Military Expenditure.csv', index_col =[0])\n",
    "df_with_index = pd.read_csv('G:/Military Expenditure.csv')"
   ]
  },
  {
   "cell_type": "code",
   "execution_count": 96,
   "id": "ea8845d0",
   "metadata": {},
   "outputs": [
    {
     "data": {
      "text/plain": [
       "Code                0\n",
       "Type                0\n",
       "Indicator Name      0\n",
       "1960              185\n",
       "1961              180\n",
       "                 ... \n",
       "2014               61\n",
       "2015               66\n",
       "2016               67\n",
       "2017               69\n",
       "2018               68\n",
       "Length: 62, dtype: int64"
      ]
     },
     "execution_count": 96,
     "metadata": {},
     "output_type": "execute_result"
    }
   ],
   "source": [
    "df.isnull().sum()"
   ]
  },
  {
   "cell_type": "code",
   "execution_count": 97,
   "id": "9e281e96",
   "metadata": {},
   "outputs": [
    {
     "name": "stdout",
     "output_type": "stream",
     "text": [
      "<class 'pandas.core.frame.DataFrame'>\n",
      "Index: 264 entries, Aruba to Zimbabwe\n",
      "Data columns (total 62 columns):\n",
      " #   Column          Non-Null Count  Dtype  \n",
      "---  ------          --------------  -----  \n",
      " 0   Code            264 non-null    object \n",
      " 1   Type            264 non-null    object \n",
      " 2   Indicator Name  264 non-null    object \n",
      " 3   1960            79 non-null     float64\n",
      " 4   1961            84 non-null     float64\n",
      " 5   1962            93 non-null     float64\n",
      " 6   1963            98 non-null     float64\n",
      " 7   1964            98 non-null     float64\n",
      " 8   1965            104 non-null    float64\n",
      " 9   1966            104 non-null    float64\n",
      " 10  1967            105 non-null    float64\n",
      " 11  1968            113 non-null    float64\n",
      " 12  1969            113 non-null    float64\n",
      " 13  1970            121 non-null    float64\n",
      " 14  1971            122 non-null    float64\n",
      " 15  1972            123 non-null    float64\n",
      " 16  1973            130 non-null    float64\n",
      " 17  1974            128 non-null    float64\n",
      " 18  1975            128 non-null    float64\n",
      " 19  1976            132 non-null    float64\n",
      " 20  1977            137 non-null    float64\n",
      " 21  1978            136 non-null    float64\n",
      " 22  1979            138 non-null    float64\n",
      " 23  1980            140 non-null    float64\n",
      " 24  1981            143 non-null    float64\n",
      " 25  1982            137 non-null    float64\n",
      " 26  1983            136 non-null    float64\n",
      " 27  1984            142 non-null    float64\n",
      " 28  1985            147 non-null    float64\n",
      " 29  1986            143 non-null    float64\n",
      " 30  1987            147 non-null    float64\n",
      " 31  1988            145 non-null    float64\n",
      " 32  1989            154 non-null    float64\n",
      " 33  1990            158 non-null    float64\n",
      " 34  1991            160 non-null    float64\n",
      " 35  1992            167 non-null    float64\n",
      " 36  1993            185 non-null    float64\n",
      " 37  1994            187 non-null    float64\n",
      " 38  1995            184 non-null    float64\n",
      " 39  1996            186 non-null    float64\n",
      " 40  1997            187 non-null    float64\n",
      " 41  1998            182 non-null    float64\n",
      " 42  1999            184 non-null    float64\n",
      " 43  2000            189 non-null    float64\n",
      " 44  2001            190 non-null    float64\n",
      " 45  2002            193 non-null    float64\n",
      " 46  2003            199 non-null    float64\n",
      " 47  2004            199 non-null    float64\n",
      " 48  2005            201 non-null    float64\n",
      " 49  2006            197 non-null    float64\n",
      " 50  2007            195 non-null    float64\n",
      " 51  2008            201 non-null    float64\n",
      " 52  2009            197 non-null    float64\n",
      " 53  2010            196 non-null    float64\n",
      " 54  2011            194 non-null    float64\n",
      " 55  2012            199 non-null    float64\n",
      " 56  2013            202 non-null    float64\n",
      " 57  2014            203 non-null    float64\n",
      " 58  2015            198 non-null    float64\n",
      " 59  2016            197 non-null    float64\n",
      " 60  2017            195 non-null    float64\n",
      " 61  2018            196 non-null    float64\n",
      "dtypes: float64(59), object(3)\n",
      "memory usage: 129.9+ KB\n"
     ]
    }
   ],
   "source": [
    "df.info()"
   ]
  },
  {
   "cell_type": "code",
   "execution_count": 98,
   "id": "a0335a4f",
   "metadata": {},
   "outputs": [
    {
     "data": {
      "text/plain": [
       "(264, 62)"
      ]
     },
     "execution_count": 98,
     "metadata": {},
     "output_type": "execute_result"
    }
   ],
   "source": [
    "df.shape"
   ]
  },
  {
   "cell_type": "code",
   "execution_count": 99,
   "id": "486d5c5e",
   "metadata": {},
   "outputs": [],
   "source": [
    "graph_data = df[df['Type'] == 'Country'].sort_values(by='2018',ascending=False)[['2018']][:10]"
   ]
  },
  {
   "cell_type": "code",
   "execution_count": 100,
   "id": "4ad4cc15",
   "metadata": {},
   "outputs": [
    {
     "data": {
      "text/html": [
       "<div>\n",
       "<style scoped>\n",
       "    .dataframe tbody tr th:only-of-type {\n",
       "        vertical-align: middle;\n",
       "    }\n",
       "\n",
       "    .dataframe tbody tr th {\n",
       "        vertical-align: top;\n",
       "    }\n",
       "\n",
       "    .dataframe thead th {\n",
       "        text-align: right;\n",
       "    }\n",
       "</style>\n",
       "<table border=\"1\" class=\"dataframe\">\n",
       "  <thead>\n",
       "    <tr style=\"text-align: right;\">\n",
       "      <th></th>\n",
       "      <th>2018</th>\n",
       "    </tr>\n",
       "    <tr>\n",
       "      <th>Name</th>\n",
       "      <th></th>\n",
       "    </tr>\n",
       "  </thead>\n",
       "  <tbody>\n",
       "    <tr>\n",
       "      <th>United States</th>\n",
       "      <td>649,000,000,000.0</td>\n",
       "    </tr>\n",
       "    <tr>\n",
       "      <th>China</th>\n",
       "      <td>250,000,000,000.0</td>\n",
       "    </tr>\n",
       "    <tr>\n",
       "      <th>Saudi Arabia</th>\n",
       "      <td>67,554,666,667.0</td>\n",
       "    </tr>\n",
       "    <tr>\n",
       "      <th>India</th>\n",
       "      <td>66,510,289,108.0</td>\n",
       "    </tr>\n",
       "    <tr>\n",
       "      <th>France</th>\n",
       "      <td>63,799,676,593.0</td>\n",
       "    </tr>\n",
       "    <tr>\n",
       "      <th>Russian Federation</th>\n",
       "      <td>61,387,546,980.0</td>\n",
       "    </tr>\n",
       "    <tr>\n",
       "      <th>United Kingdom</th>\n",
       "      <td>49,997,192,521.0</td>\n",
       "    </tr>\n",
       "    <tr>\n",
       "      <th>Germany</th>\n",
       "      <td>49,470,627,811.0</td>\n",
       "    </tr>\n",
       "    <tr>\n",
       "      <th>Japan</th>\n",
       "      <td>46,617,954,864.0</td>\n",
       "    </tr>\n",
       "    <tr>\n",
       "      <th>South Korea</th>\n",
       "      <td>43,069,973,343.0</td>\n",
       "    </tr>\n",
       "  </tbody>\n",
       "</table>\n",
       "</div>"
      ],
      "text/plain": [
       "                                2018\n",
       "Name                                \n",
       "United States      649,000,000,000.0\n",
       "China              250,000,000,000.0\n",
       "Saudi Arabia        67,554,666,667.0\n",
       "India               66,510,289,108.0\n",
       "France              63,799,676,593.0\n",
       "Russian Federation  61,387,546,980.0\n",
       "United Kingdom      49,997,192,521.0\n",
       "Germany             49,470,627,811.0\n",
       "Japan               46,617,954,864.0\n",
       "South Korea         43,069,973,343.0"
      ]
     },
     "execution_count": 100,
     "metadata": {},
     "output_type": "execute_result"
    }
   ],
   "source": [
    "graph_data"
   ]
  },
  {
   "cell_type": "code",
   "execution_count": 101,
   "id": "cf75b271",
   "metadata": {},
   "outputs": [
    {
     "data": {
      "text/plain": [
       "([0, 1, 2, 3, 4, 5, 6, 7, 8, 9],\n",
       " [Text(0, 0, ''),\n",
       "  Text(0, 0, ''),\n",
       "  Text(0, 0, ''),\n",
       "  Text(0, 0, ''),\n",
       "  Text(0, 0, ''),\n",
       "  Text(0, 0, ''),\n",
       "  Text(0, 0, ''),\n",
       "  Text(0, 0, ''),\n",
       "  Text(0, 0, ''),\n",
       "  Text(0, 0, '')])"
      ]
     },
     "execution_count": 101,
     "metadata": {},
     "output_type": "execute_result"
    },
    {
     "data": {
      "image/png": "[encoded data removed]",
      "text/plain": [
       "<Figure size 640x480 with 1 Axes>"
      ]
     },
     "metadata": {},
     "output_type": "display_data"
    }
   ],
   "source": [
    "plt.plot(graph_data[\"2018\"],c ='k')\n",
    "plt.xticks(rotation =45)"
   ]
  },
  {
   "cell_type": "code",
   "execution_count": 102,
   "id": "48cf9e64",
   "metadata": {},
   "outputs": [],
   "source": [
    "df_india = df_with_index[df_with_index[\"Name\"] == \"India\"]"
   ]
  },
  {
   "cell_type": "code",
   "execution_count": 103,
   "id": "2cc09493",
   "metadata": {},
   "outputs": [],
   "source": [
    "df_ind =df_india.drop([\"Indicator Name\",\"Code\", \"Type\"], axis =1)"
   ]
  },
  {
   "cell_type": "code",
   "execution_count": 104,
   "id": "6a9eb043",
   "metadata": {},
   "outputs": [],
   "source": [
    "df_ind_graph =df_ind.melt(id_vars=[\"Name\"], \n",
    "        var_name=[\"Date\"], \n",
    "        value_name=\"Expend\").sort_values(by = 'Expend',ascending = False)"
   ]
  },
  {
   "cell_type": "code",
   "execution_count": 105,
   "id": "8dbe1d69",
   "metadata": {},
   "outputs": [],
   "source": [
    "df_ind_graph[\"Date\"] = pd.to_datetime(df_ind_graph[\"Date\"])"
   ]
  },
  {
   "cell_type": "code",
   "execution_count": 106,
   "id": "d99e5cd6",
   "metadata": {},
   "outputs": [
    {
     "data": {
      "text/plain": [
       "Text(0.5, 1.0, '1963 to 2018 Military Expend increse \\n Year wise')"
      ]
     },
     "execution_count": 106,
     "metadata": {},
     "output_type": "execute_result"
    },
    {
     "data": {
      "image/png": "[encoded data removed]",
      "text/plain": [
       "<Figure size 640x480 with 1 Axes>"
      ]
     },
     "metadata": {},
     "output_type": "display_data"
    }
   ],
   "source": [
    "plt.plot(df_ind_graph['Date'],df_ind_graph['Expend'],c='r')\n",
    "plt.xlabel(\"Year\")\n",
    "plt.ylabel(\"Increase Expend\")\n",
    "plt.title(\"1963 to 2018 Military Expend increse \\n Year wise\")"
   ]
  },
  {
   "cell_type": "code",
   "execution_count": 107,
   "id": "1f9c7e12",
   "metadata": {},
   "outputs": [
    {
     "data": {
      "text/plain": [
       "'\\nconclusion \\nMilitary expediture Budget increase little bit at 1963 due to india-china after that it was increase in 90s and after 2003\\nit increses so fast.\\n'"
      ]
     },
     "execution_count": 107,
     "metadata": {},
     "output_type": "execute_result"
    }
   ],
   "source": [
    "'''\n",
    "conclusion \n",
    "Military expediture Budget increase little bit at 1963 due to india-china after that it was increase in 90s and after 2003\n",
    "it increses so fast.\n",
    "'''"
   ]
  }
 ],
 "metadata": {
  "kernelspec": {
   "display_name": "Python 3 (ipykernel)",
   "language": "python",
   "name": "python3"
  },
  "language_info": {
   "codemirror_mode": {
    "name": "ipython",
    "version": 3
   },
   "file_extension": ".py",
   "mimetype": "text/x-python",
   "name": "python",
   "nbconvert_exporter": "python",
   "pygments_lexer": "ipython3",
   "version": "3.9.13"
  }
 },
 "nbformat": 4,
 "nbformat_minor": 5
}
